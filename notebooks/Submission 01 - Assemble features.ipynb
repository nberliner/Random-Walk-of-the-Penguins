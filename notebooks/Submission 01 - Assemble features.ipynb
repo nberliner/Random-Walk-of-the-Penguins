{
 "cells": [
  {
   "cell_type": "code",
   "execution_count": 1,
   "metadata": {
    "collapsed": false
   },
   "outputs": [
    {
     "name": "stdout",
     "output_type": "stream",
     "text": [
      "Populating the interactive namespace from numpy and matplotlib\n"
     ]
    }
   ],
   "source": [
    "%pylab inline"
   ]
  },
  {
   "cell_type": "code",
   "execution_count": 2,
   "metadata": {
    "collapsed": true
   },
   "outputs": [],
   "source": [
    "# See http://drivendata.github.io/cookiecutter-data-science/\n",
    "import os\n",
    "import sys\n",
    "\n",
    "src_dir = os.path.join(os.getcwd(), os.pardir, 'src')\n",
    "sys.path.append(src_dir)"
   ]
  },
  {
   "cell_type": "code",
   "execution_count": 3,
   "metadata": {
    "collapsed": false
   },
   "outputs": [
    {
     "name": "stderr",
     "output_type": "stream",
     "text": [
      "Using Theano backend.\n"
     ]
    }
   ],
   "source": [
    "import pickle\n",
    "\n",
    "import numpy as np\n",
    "import pandas as pd\n",
    "\n",
    "# Set the seed for Keras\n",
    "np.random.seed(4)\n",
    "\n",
    "from data.data import get_data, noise_bagging\n",
    "from features.features import Features\n",
    "\n",
    "from model.model import split_train_test"
   ]
  },
  {
   "cell_type": "code",
   "execution_count": 4,
   "metadata": {
    "collapsed": true
   },
   "outputs": [],
   "source": [
    "# Define the properties of this run\n",
    "\n",
    "# Set the number of time steps that will be used in for the RNN\n",
    "ts_steps = 4\n",
    "\n",
    "# Set the radius in km that will be used to compute the nest count of neighbouring nests\n",
    "nestCount_radius = 200\n",
    "\n",
    "# Set the radius in which the krill data will be reported for each nest\n",
    "krill_radius = 100\n",
    "\n",
    "# Set the area which is used for computing the sea ice feature\n",
    "padding = 1"
   ]
  },
  {
   "cell_type": "code",
   "execution_count": 5,
   "metadata": {
    "collapsed": false
   },
   "outputs": [
    {
     "data": {
      "text/html": [
       "<div>\n",
       "<table border=\"1\" class=\"dataframe\">\n",
       "  <thead>\n",
       "    <tr style=\"text-align: right;\">\n",
       "      <th></th>\n",
       "      <th></th>\n",
       "      <th></th>\n",
       "      <th>y_true</th>\n",
       "      <th>inferred_y_true</th>\n",
       "      <th>inferred_t</th>\n",
       "      <th>t0</th>\n",
       "      <th>t1</th>\n",
       "      <th>t2</th>\n",
       "      <th>t3</th>\n",
       "      <th>countError</th>\n",
       "    </tr>\n",
       "    <tr>\n",
       "      <th>site_id</th>\n",
       "      <th>species</th>\n",
       "      <th>year</th>\n",
       "      <th></th>\n",
       "      <th></th>\n",
       "      <th></th>\n",
       "      <th></th>\n",
       "      <th></th>\n",
       "      <th></th>\n",
       "      <th></th>\n",
       "      <th></th>\n",
       "    </tr>\n",
       "  </thead>\n",
       "  <tbody>\n",
       "    <tr>\n",
       "      <th rowspan=\"2\" valign=\"top\">ACUN</th>\n",
       "      <th>adelie penguin</th>\n",
       "      <th>1983</th>\n",
       "      <td>1.0000</td>\n",
       "      <td>True</td>\n",
       "      <td>True</td>\n",
       "      <td>NaN</td>\n",
       "      <td>1.0</td>\n",
       "      <td>1.0</td>\n",
       "      <td>1.0</td>\n",
       "      <td>0.707107</td>\n",
       "    </tr>\n",
       "    <tr>\n",
       "      <th>chinstrap penguin</th>\n",
       "      <th>1983</th>\n",
       "      <td>1.0000</td>\n",
       "      <td>True</td>\n",
       "      <td>False</td>\n",
       "      <td>NaN</td>\n",
       "      <td>1.0</td>\n",
       "      <td>1.0</td>\n",
       "      <td>1.0</td>\n",
       "      <td>0.707107</td>\n",
       "    </tr>\n",
       "    <tr>\n",
       "      <th>ADAM</th>\n",
       "      <th>adelie penguin</th>\n",
       "      <th>1983</th>\n",
       "      <td>1.0000</td>\n",
       "      <td>True</td>\n",
       "      <td>True</td>\n",
       "      <td>NaN</td>\n",
       "      <td>1.0</td>\n",
       "      <td>1.0</td>\n",
       "      <td>1.0</td>\n",
       "      <td>0.707107</td>\n",
       "    </tr>\n",
       "    <tr>\n",
       "      <th>ADAR</th>\n",
       "      <th>adelie penguin</th>\n",
       "      <th>1983</th>\n",
       "      <td>1.0331</td>\n",
       "      <td>True</td>\n",
       "      <td>False</td>\n",
       "      <td>NaN</td>\n",
       "      <td>1.0</td>\n",
       "      <td>1.0</td>\n",
       "      <td>1.0</td>\n",
       "      <td>0.196116</td>\n",
       "    </tr>\n",
       "    <tr>\n",
       "      <th>AILS</th>\n",
       "      <th>chinstrap penguin</th>\n",
       "      <th>1983</th>\n",
       "      <td>1.0000</td>\n",
       "      <td>True</td>\n",
       "      <td>False</td>\n",
       "      <td>NaN</td>\n",
       "      <td>1.0</td>\n",
       "      <td>1.0</td>\n",
       "      <td>1.0</td>\n",
       "      <td>0.707107</td>\n",
       "    </tr>\n",
       "  </tbody>\n",
       "</table>\n",
       "</div>"
      ],
      "text/plain": [
       "                                y_true inferred_y_true inferred_t  t0   t1  \\\n",
       "site_id species           year                                               \n",
       "ACUN    adelie penguin    1983  1.0000            True       True NaN  1.0   \n",
       "        chinstrap penguin 1983  1.0000            True      False NaN  1.0   \n",
       "ADAM    adelie penguin    1983  1.0000            True       True NaN  1.0   \n",
       "ADAR    adelie penguin    1983  1.0331            True      False NaN  1.0   \n",
       "AILS    chinstrap penguin 1983  1.0000            True      False NaN  1.0   \n",
       "\n",
       "                                 t2   t3  countError  \n",
       "site_id species           year                        \n",
       "ACUN    adelie penguin    1983  1.0  1.0    0.707107  \n",
       "        chinstrap penguin 1983  1.0  1.0    0.707107  \n",
       "ADAM    adelie penguin    1983  1.0  1.0    0.707107  \n",
       "ADAR    adelie penguin    1983  1.0  1.0    0.196116  \n",
       "AILS    chinstrap penguin 1983  1.0  1.0    0.707107  "
      ]
     },
     "execution_count": 5,
     "metadata": {},
     "output_type": "execute_result"
    }
   ],
   "source": [
    "# Get the data with the specified time lag. The time series is assembled as relative difference\n",
    "# betweene the successive steps.\n",
    "df_features, scaler = get_data(ts_steps)\n",
    "df_features.head()"
   ]
  },
  {
   "cell_type": "code",
   "execution_count": 6,
   "metadata": {
    "collapsed": true
   },
   "outputs": [],
   "source": [
    "# Remove the first occurence\n",
    "df_features.dropna(inplace=True)"
   ]
  },
  {
   "cell_type": "code",
   "execution_count": 7,
   "metadata": {
    "collapsed": false
   },
   "outputs": [
    {
     "name": "stdout",
     "output_type": "stream",
     "text": [
      "\n",
      "Loading sea ice distMat from data/interim/\n",
      "Computing sea ice distMat and caching result in data/interim/\n",
      "This can take a while.. (apologies for computing this via brute force)\n",
      "Done.\n",
      "Computing krill distMat and caching result in data/interim/\n",
      "This can take a while.. (apologies for computing this via brute force)\n"
     ]
    },
    {
     "data": {
      "text/html": [
       "<div>\n",
       "<table border=\"1\" class=\"dataframe\">\n",
       "  <thead>\n",
       "    <tr style=\"text-align: right;\">\n",
       "      <th></th>\n",
       "      <th></th>\n",
       "      <th></th>\n",
       "      <th>y_true</th>\n",
       "      <th>inferred_y_true</th>\n",
       "      <th>inferred_t</th>\n",
       "      <th>t0</th>\n",
       "      <th>t1</th>\n",
       "      <th>t2</th>\n",
       "      <th>t3</th>\n",
       "      <th>countError</th>\n",
       "      <th>adelie penguin</th>\n",
       "      <th>chinstrap penguin</th>\n",
       "      <th>...</th>\n",
       "      <th>sea_ice_month_3</th>\n",
       "      <th>sea_ice_month_4</th>\n",
       "      <th>sea_ice_month_5</th>\n",
       "      <th>sea_ice_month_6</th>\n",
       "      <th>sea_ice_month_7</th>\n",
       "      <th>sea_ice_month_8</th>\n",
       "      <th>sea_ice_month_9</th>\n",
       "      <th>sea_ice_month_10</th>\n",
       "      <th>sea_ice_month_11</th>\n",
       "      <th>krill</th>\n",
       "    </tr>\n",
       "    <tr>\n",
       "      <th>site_id</th>\n",
       "      <th>species</th>\n",
       "      <th>year</th>\n",
       "      <th></th>\n",
       "      <th></th>\n",
       "      <th></th>\n",
       "      <th></th>\n",
       "      <th></th>\n",
       "      <th></th>\n",
       "      <th></th>\n",
       "      <th></th>\n",
       "      <th></th>\n",
       "      <th></th>\n",
       "      <th></th>\n",
       "      <th></th>\n",
       "      <th></th>\n",
       "      <th></th>\n",
       "      <th></th>\n",
       "      <th></th>\n",
       "      <th></th>\n",
       "      <th></th>\n",
       "      <th></th>\n",
       "      <th></th>\n",
       "      <th></th>\n",
       "    </tr>\n",
       "  </thead>\n",
       "  <tbody>\n",
       "    <tr>\n",
       "      <th rowspan=\"5\" valign=\"top\">ACUN</th>\n",
       "      <th rowspan=\"5\" valign=\"top\">adelie penguin</th>\n",
       "      <th>1984</th>\n",
       "      <td>1.0</td>\n",
       "      <td>True</td>\n",
       "      <td>True</td>\n",
       "      <td>1.0</td>\n",
       "      <td>1.0</td>\n",
       "      <td>1.0</td>\n",
       "      <td>1.0</td>\n",
       "      <td>0.707107</td>\n",
       "      <td>1.0</td>\n",
       "      <td>0.0</td>\n",
       "      <td>...</td>\n",
       "      <td>0.000000</td>\n",
       "      <td>0.000000</td>\n",
       "      <td>0.007222</td>\n",
       "      <td>0.177222</td>\n",
       "      <td>0.000000</td>\n",
       "      <td>0.000000</td>\n",
       "      <td>0.064167</td>\n",
       "      <td>0.141944</td>\n",
       "      <td>0.147778</td>\n",
       "      <td>1.051298</td>\n",
       "    </tr>\n",
       "    <tr>\n",
       "      <th>1985</th>\n",
       "      <td>1.0</td>\n",
       "      <td>True</td>\n",
       "      <td>True</td>\n",
       "      <td>1.0</td>\n",
       "      <td>1.0</td>\n",
       "      <td>1.0</td>\n",
       "      <td>1.0</td>\n",
       "      <td>0.707107</td>\n",
       "      <td>1.0</td>\n",
       "      <td>0.0</td>\n",
       "      <td>...</td>\n",
       "      <td>0.006667</td>\n",
       "      <td>0.000000</td>\n",
       "      <td>0.000000</td>\n",
       "      <td>0.060278</td>\n",
       "      <td>0.059444</td>\n",
       "      <td>0.016111</td>\n",
       "      <td>0.000000</td>\n",
       "      <td>0.140000</td>\n",
       "      <td>0.165556</td>\n",
       "      <td>5.788702</td>\n",
       "    </tr>\n",
       "    <tr>\n",
       "      <th>1986</th>\n",
       "      <td>1.0</td>\n",
       "      <td>True</td>\n",
       "      <td>True</td>\n",
       "      <td>1.0</td>\n",
       "      <td>1.0</td>\n",
       "      <td>1.0</td>\n",
       "      <td>1.0</td>\n",
       "      <td>0.707107</td>\n",
       "      <td>1.0</td>\n",
       "      <td>0.0</td>\n",
       "      <td>...</td>\n",
       "      <td>0.141111</td>\n",
       "      <td>0.000000</td>\n",
       "      <td>0.000278</td>\n",
       "      <td>0.043889</td>\n",
       "      <td>0.150556</td>\n",
       "      <td>0.065000</td>\n",
       "      <td>0.003333</td>\n",
       "      <td>0.171944</td>\n",
       "      <td>0.000000</td>\n",
       "      <td>0.000000</td>\n",
       "    </tr>\n",
       "    <tr>\n",
       "      <th>1987</th>\n",
       "      <td>1.0</td>\n",
       "      <td>True</td>\n",
       "      <td>True</td>\n",
       "      <td>1.0</td>\n",
       "      <td>1.0</td>\n",
       "      <td>1.0</td>\n",
       "      <td>1.0</td>\n",
       "      <td>0.707107</td>\n",
       "      <td>1.0</td>\n",
       "      <td>0.0</td>\n",
       "      <td>...</td>\n",
       "      <td>0.083611</td>\n",
       "      <td>0.000000</td>\n",
       "      <td>0.150833</td>\n",
       "      <td>0.168333</td>\n",
       "      <td>0.164722</td>\n",
       "      <td>0.000000</td>\n",
       "      <td>0.151389</td>\n",
       "      <td>0.181667</td>\n",
       "      <td>0.181667</td>\n",
       "      <td>0.000000</td>\n",
       "    </tr>\n",
       "    <tr>\n",
       "      <th>1988</th>\n",
       "      <td>1.0</td>\n",
       "      <td>True</td>\n",
       "      <td>True</td>\n",
       "      <td>1.0</td>\n",
       "      <td>1.0</td>\n",
       "      <td>1.0</td>\n",
       "      <td>1.0</td>\n",
       "      <td>0.707107</td>\n",
       "      <td>1.0</td>\n",
       "      <td>0.0</td>\n",
       "      <td>...</td>\n",
       "      <td>0.158333</td>\n",
       "      <td>0.129444</td>\n",
       "      <td>0.122778</td>\n",
       "      <td>0.000000</td>\n",
       "      <td>0.054444</td>\n",
       "      <td>0.158889</td>\n",
       "      <td>0.151389</td>\n",
       "      <td>0.008889</td>\n",
       "      <td>0.000000</td>\n",
       "      <td>4.264471</td>\n",
       "    </tr>\n",
       "  </tbody>\n",
       "</table>\n",
       "<p>5 rows × 26 columns</p>\n",
       "</div>"
      ],
      "text/plain": [
       "                             y_true inferred_y_true inferred_t   t0   t1   t2  \\\n",
       "site_id species        year                                                     \n",
       "ACUN    adelie penguin 1984     1.0            True       True  1.0  1.0  1.0   \n",
       "                       1985     1.0            True       True  1.0  1.0  1.0   \n",
       "                       1986     1.0            True       True  1.0  1.0  1.0   \n",
       "                       1987     1.0            True       True  1.0  1.0  1.0   \n",
       "                       1988     1.0            True       True  1.0  1.0  1.0   \n",
       "\n",
       "                              t3  countError  adelie penguin  \\\n",
       "site_id species        year                                    \n",
       "ACUN    adelie penguin 1984  1.0    0.707107             1.0   \n",
       "                       1985  1.0    0.707107             1.0   \n",
       "                       1986  1.0    0.707107             1.0   \n",
       "                       1987  1.0    0.707107             1.0   \n",
       "                       1988  1.0    0.707107             1.0   \n",
       "\n",
       "                             chinstrap penguin    ...     sea_ice_month_3  \\\n",
       "site_id species        year                       ...                       \n",
       "ACUN    adelie penguin 1984                0.0    ...            0.000000   \n",
       "                       1985                0.0    ...            0.006667   \n",
       "                       1986                0.0    ...            0.141111   \n",
       "                       1987                0.0    ...            0.083611   \n",
       "                       1988                0.0    ...            0.158333   \n",
       "\n",
       "                             sea_ice_month_4  sea_ice_month_5  \\\n",
       "site_id species        year                                     \n",
       "ACUN    adelie penguin 1984         0.000000         0.007222   \n",
       "                       1985         0.000000         0.000000   \n",
       "                       1986         0.000000         0.000278   \n",
       "                       1987         0.000000         0.150833   \n",
       "                       1988         0.129444         0.122778   \n",
       "\n",
       "                             sea_ice_month_6  sea_ice_month_7  \\\n",
       "site_id species        year                                     \n",
       "ACUN    adelie penguin 1984         0.177222         0.000000   \n",
       "                       1985         0.060278         0.059444   \n",
       "                       1986         0.043889         0.150556   \n",
       "                       1987         0.168333         0.164722   \n",
       "                       1988         0.000000         0.054444   \n",
       "\n",
       "                             sea_ice_month_8  sea_ice_month_9  \\\n",
       "site_id species        year                                     \n",
       "ACUN    adelie penguin 1984         0.000000         0.064167   \n",
       "                       1985         0.016111         0.000000   \n",
       "                       1986         0.065000         0.003333   \n",
       "                       1987         0.000000         0.151389   \n",
       "                       1988         0.158889         0.151389   \n",
       "\n",
       "                             sea_ice_month_10  sea_ice_month_11     krill  \n",
       "site_id species        year                                                \n",
       "ACUN    adelie penguin 1984          0.141944          0.147778  1.051298  \n",
       "                       1985          0.140000          0.165556  5.788702  \n",
       "                       1986          0.171944          0.000000  0.000000  \n",
       "                       1987          0.181667          0.181667  0.000000  \n",
       "                       1988          0.008889          0.000000  4.264471  \n",
       "\n",
       "[5 rows x 26 columns]"
      ]
     },
     "execution_count": 7,
     "metadata": {},
     "output_type": "execute_result"
    }
   ],
   "source": [
    "# Add the features to the DataFrame\n",
    "features = Features(krill_radius, nestCount_radius, padding)\n",
    "df_features = features.add_features(df_features)\n",
    "\n",
    "df_features.head()"
   ]
  },
  {
   "cell_type": "code",
   "execution_count": 8,
   "metadata": {
    "collapsed": false
   },
   "outputs": [
    {
     "data": {
      "text/plain": [
       "((17496, 26), (1296, 26))"
      ]
     },
     "execution_count": 8,
     "metadata": {},
     "output_type": "execute_result"
    }
   ],
   "source": [
    "# Split into train and test\n",
    "df_train, df_test = split_train_test(df_features)\n",
    "df_train.shape, df_test.shape"
   ]
  },
  {
   "cell_type": "code",
   "execution_count": 9,
   "metadata": {
    "collapsed": false
   },
   "outputs": [
    {
     "name": "stdout",
     "output_type": "stream",
     "text": [
      "Noise y observed (8184, 26)\n",
      "Noise t observed (6261, 26)\n",
      "Noise all (34992, 26)\n",
      "Final (49437, 26)\n"
     ]
    }
   ],
   "source": [
    "# There are a lot of missing values in the original data and I believe that the truly observed values\n",
    "# should be trusted more. In order to increase the training data, noise is added to which artificially\n",
    "# increase the number of observations. Here, the truly observed data is enriched relatively more to\n",
    "# put more emphasise on them.\n",
    "\n",
    "df_YObserved = df_train[~df_train['inferred_y_true']]\n",
    "df_trainNoiseYObserved = noise_bagging(df_YObserved, 5*df_YObserved.shape[0], strength=0.5)\n",
    "print('Noise y observed', df_trainNoiseYObserved.shape)\n",
    "\n",
    "df_TObserved = df_train[~df_train['inferred_t']]\n",
    "df_trainNoiseTObserved = noise_bagging(df_TObserved, 2*df_YObserved.shape[0], strength=0.5)\n",
    "print('Noise t observed', df_trainNoiseTObserved.shape)\n",
    "\n",
    "df_trainNoise = noise_bagging(df_train, 1*df_train.shape[0], strength=0.4)\n",
    "print('Noise all', df_trainNoise.shape)\n",
    "\n",
    "df_trainNoise = pd.concat([df_trainNoise, df_trainNoiseTObserved, df_trainNoiseYObserved])\n",
    "print('Final', df_trainNoise.shape)"
   ]
  },
  {
   "cell_type": "code",
   "execution_count": 10,
   "metadata": {
    "collapsed": false
   },
   "outputs": [],
   "source": [
    "fname = '../data/interim/features_weighted.p'\n",
    "pickle.dump([df_trainNoise, df_test, df_features, features, scaler], open(fname, 'wb'))"
   ]
  },
  {
   "cell_type": "code",
   "execution_count": null,
   "metadata": {
    "collapsed": false
   },
   "outputs": [],
   "source": []
  }
 ],
 "metadata": {
  "kernelspec": {
   "display_name": "Python [conda env:keras]",
   "language": "python",
   "name": "conda-env-keras-py"
  },
  "language_info": {
   "codemirror_mode": {
    "name": "ipython",
    "version": 3
   },
   "file_extension": ".py",
   "mimetype": "text/x-python",
   "name": "python",
   "nbconvert_exporter": "python",
   "pygments_lexer": "ipython3",
   "version": "3.4.5"
  },
  "widgets": {
   "state": {
    "c2f1e4c48ff742ff870ebe2147da7865": {
     "views": [
      {
       "cell_index": 6
      }
     ]
    }
   },
   "version": "1.2.0"
  }
 },
 "nbformat": 4,
 "nbformat_minor": 2
}
