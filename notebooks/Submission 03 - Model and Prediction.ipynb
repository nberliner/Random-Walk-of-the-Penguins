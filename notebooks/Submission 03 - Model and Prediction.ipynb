{
 "cells": [
  {
   "cell_type": "code",
   "execution_count": 1,
   "metadata": {
    "collapsed": false
   },
   "outputs": [
    {
     "name": "stdout",
     "output_type": "stream",
     "text": [
      "Populating the interactive namespace from numpy and matplotlib\n"
     ]
    }
   ],
   "source": [
    "%pylab inline"
   ]
  },
  {
   "cell_type": "code",
   "execution_count": 2,
   "metadata": {
    "collapsed": true
   },
   "outputs": [],
   "source": [
    "import os\n",
    "import sys\n",
    "\n",
    "src_dir = os.path.join(os.getcwd(), os.pardir, 'src')\n",
    "sys.path.append(src_dir)"
   ]
  },
  {
   "cell_type": "code",
   "execution_count": 3,
   "metadata": {
    "collapsed": false
   },
   "outputs": [
    {
     "name": "stderr",
     "output_type": "stream",
     "text": [
      "Using Theano backend.\n"
     ]
    }
   ],
   "source": [
    "import pickle\n",
    "\n",
    "import numpy as np\n",
    "import pandas as pd\n",
    "\n",
    "# Set the seed for Keras\n",
    "np.random.seed(4)\n",
    "\n",
    "from model.model import get_model, split_train_test\n",
    "\n",
    "from model.predictions import fit_model, predict, assemble_submission, convert_predictions, AMAPE\n",
    "\n",
    "from utils.visualisations import PenguinVisualisation"
   ]
  },
  {
   "cell_type": "code",
   "execution_count": 4,
   "metadata": {
    "collapsed": false
   },
   "outputs": [],
   "source": [
    "# Use the same features without noise added computed for Submission 2\n",
    "fname = '../data/interim/Submission_02/features.p'\n",
    "df_train, df_test, df_features, _, features, scaler = pickle.load(open(fname, 'rb'))"
   ]
  },
  {
   "cell_type": "code",
   "execution_count": 5,
   "metadata": {
    "collapsed": false
   },
   "outputs": [
    {
     "name": "stdout",
     "output_type": "stream",
     "text": [
      "(17496, 38) (1296, 38)\n"
     ]
    },
    {
     "data": {
      "text/html": [
       "<div>\n",
       "<table border=\"1\" class=\"dataframe\">\n",
       "  <thead>\n",
       "    <tr style=\"text-align: right;\">\n",
       "      <th></th>\n",
       "      <th></th>\n",
       "      <th></th>\n",
       "      <th>y_true</th>\n",
       "      <th>inferred_y_true</th>\n",
       "      <th>inferred_t</th>\n",
       "      <th>t0</th>\n",
       "      <th>t1</th>\n",
       "      <th>t2</th>\n",
       "      <th>t3</th>\n",
       "      <th>countError</th>\n",
       "      <th>adelie penguin</th>\n",
       "      <th>chinstrap penguin</th>\n",
       "      <th>...</th>\n",
       "      <th>temp_month_2</th>\n",
       "      <th>temp_month_3</th>\n",
       "      <th>temp_month_4</th>\n",
       "      <th>temp_month_5</th>\n",
       "      <th>temp_month_6</th>\n",
       "      <th>temp_month_7</th>\n",
       "      <th>temp_month_8</th>\n",
       "      <th>temp_month_9</th>\n",
       "      <th>temp_month_10</th>\n",
       "      <th>temp_month_11</th>\n",
       "    </tr>\n",
       "    <tr>\n",
       "      <th>site_id</th>\n",
       "      <th>species</th>\n",
       "      <th>year</th>\n",
       "      <th></th>\n",
       "      <th></th>\n",
       "      <th></th>\n",
       "      <th></th>\n",
       "      <th></th>\n",
       "      <th></th>\n",
       "      <th></th>\n",
       "      <th></th>\n",
       "      <th></th>\n",
       "      <th></th>\n",
       "      <th></th>\n",
       "      <th></th>\n",
       "      <th></th>\n",
       "      <th></th>\n",
       "      <th></th>\n",
       "      <th></th>\n",
       "      <th></th>\n",
       "      <th></th>\n",
       "      <th></th>\n",
       "      <th></th>\n",
       "      <th></th>\n",
       "    </tr>\n",
       "  </thead>\n",
       "  <tbody>\n",
       "    <tr>\n",
       "      <th rowspan=\"5\" valign=\"top\">ACUN</th>\n",
       "      <th rowspan=\"5\" valign=\"top\">adelie penguin</th>\n",
       "      <th>1984</th>\n",
       "      <td>1.0</td>\n",
       "      <td>True</td>\n",
       "      <td>True</td>\n",
       "      <td>1.0</td>\n",
       "      <td>1.0</td>\n",
       "      <td>1.0</td>\n",
       "      <td>1.0</td>\n",
       "      <td>0.707107</td>\n",
       "      <td>1.0</td>\n",
       "      <td>0.0</td>\n",
       "      <td>...</td>\n",
       "      <td>-0.21</td>\n",
       "      <td>0.38</td>\n",
       "      <td>-0.27</td>\n",
       "      <td>-0.28</td>\n",
       "      <td>2.39</td>\n",
       "      <td>-3.26</td>\n",
       "      <td>-0.48</td>\n",
       "      <td>3.94</td>\n",
       "      <td>4.12</td>\n",
       "      <td>-0.49</td>\n",
       "    </tr>\n",
       "    <tr>\n",
       "      <th>1985</th>\n",
       "      <td>1.0</td>\n",
       "      <td>True</td>\n",
       "      <td>True</td>\n",
       "      <td>1.0</td>\n",
       "      <td>1.0</td>\n",
       "      <td>1.0</td>\n",
       "      <td>1.0</td>\n",
       "      <td>0.707107</td>\n",
       "      <td>1.0</td>\n",
       "      <td>0.0</td>\n",
       "      <td>...</td>\n",
       "      <td>1.59</td>\n",
       "      <td>0.53</td>\n",
       "      <td>-0.32</td>\n",
       "      <td>1.42</td>\n",
       "      <td>0.49</td>\n",
       "      <td>-1.65</td>\n",
       "      <td>5.43</td>\n",
       "      <td>4.25</td>\n",
       "      <td>4.07</td>\n",
       "      <td>0.76</td>\n",
       "    </tr>\n",
       "    <tr>\n",
       "      <th>1986</th>\n",
       "      <td>1.0</td>\n",
       "      <td>True</td>\n",
       "      <td>True</td>\n",
       "      <td>1.0</td>\n",
       "      <td>1.0</td>\n",
       "      <td>1.0</td>\n",
       "      <td>1.0</td>\n",
       "      <td>0.707107</td>\n",
       "      <td>1.0</td>\n",
       "      <td>0.0</td>\n",
       "      <td>...</td>\n",
       "      <td>0.55</td>\n",
       "      <td>0.43</td>\n",
       "      <td>1.13</td>\n",
       "      <td>1.22</td>\n",
       "      <td>0.29</td>\n",
       "      <td>3.89</td>\n",
       "      <td>0.27</td>\n",
       "      <td>0.44</td>\n",
       "      <td>-0.73</td>\n",
       "      <td>-0.69</td>\n",
       "    </tr>\n",
       "    <tr>\n",
       "      <th>1987</th>\n",
       "      <td>1.0</td>\n",
       "      <td>True</td>\n",
       "      <td>True</td>\n",
       "      <td>1.0</td>\n",
       "      <td>1.0</td>\n",
       "      <td>1.0</td>\n",
       "      <td>1.0</td>\n",
       "      <td>0.707107</td>\n",
       "      <td>1.0</td>\n",
       "      <td>0.0</td>\n",
       "      <td>...</td>\n",
       "      <td>0.25</td>\n",
       "      <td>0.37</td>\n",
       "      <td>0.68</td>\n",
       "      <td>-0.48</td>\n",
       "      <td>0.69</td>\n",
       "      <td>-2.00</td>\n",
       "      <td>-5.22</td>\n",
       "      <td>1.80</td>\n",
       "      <td>-2.63</td>\n",
       "      <td>-1.79</td>\n",
       "    </tr>\n",
       "    <tr>\n",
       "      <th>1988</th>\n",
       "      <td>1.0</td>\n",
       "      <td>True</td>\n",
       "      <td>True</td>\n",
       "      <td>1.0</td>\n",
       "      <td>1.0</td>\n",
       "      <td>1.0</td>\n",
       "      <td>1.0</td>\n",
       "      <td>0.707107</td>\n",
       "      <td>1.0</td>\n",
       "      <td>0.0</td>\n",
       "      <td>...</td>\n",
       "      <td>0.24</td>\n",
       "      <td>0.93</td>\n",
       "      <td>0.93</td>\n",
       "      <td>0.26</td>\n",
       "      <td>1.74</td>\n",
       "      <td>-1.30</td>\n",
       "      <td>0.12</td>\n",
       "      <td>-4.30</td>\n",
       "      <td>-0.22</td>\n",
       "      <td>-1.70</td>\n",
       "    </tr>\n",
       "  </tbody>\n",
       "</table>\n",
       "<p>5 rows × 38 columns</p>\n",
       "</div>"
      ],
      "text/plain": [
       "                             y_true inferred_y_true inferred_t   t0   t1   t2  \\\n",
       "site_id species        year                                                     \n",
       "ACUN    adelie penguin 1984     1.0            True       True  1.0  1.0  1.0   \n",
       "                       1985     1.0            True       True  1.0  1.0  1.0   \n",
       "                       1986     1.0            True       True  1.0  1.0  1.0   \n",
       "                       1987     1.0            True       True  1.0  1.0  1.0   \n",
       "                       1988     1.0            True       True  1.0  1.0  1.0   \n",
       "\n",
       "                              t3  countError  adelie penguin  \\\n",
       "site_id species        year                                    \n",
       "ACUN    adelie penguin 1984  1.0    0.707107             1.0   \n",
       "                       1985  1.0    0.707107             1.0   \n",
       "                       1986  1.0    0.707107             1.0   \n",
       "                       1987  1.0    0.707107             1.0   \n",
       "                       1988  1.0    0.707107             1.0   \n",
       "\n",
       "                             chinstrap penguin      ...        temp_month_2  \\\n",
       "site_id species        year                         ...                       \n",
       "ACUN    adelie penguin 1984                0.0      ...               -0.21   \n",
       "                       1985                0.0      ...                1.59   \n",
       "                       1986                0.0      ...                0.55   \n",
       "                       1987                0.0      ...                0.25   \n",
       "                       1988                0.0      ...                0.24   \n",
       "\n",
       "                             temp_month_3  temp_month_4  temp_month_5  \\\n",
       "site_id species        year                                             \n",
       "ACUN    adelie penguin 1984          0.38         -0.27         -0.28   \n",
       "                       1985          0.53         -0.32          1.42   \n",
       "                       1986          0.43          1.13          1.22   \n",
       "                       1987          0.37          0.68         -0.48   \n",
       "                       1988          0.93          0.93          0.26   \n",
       "\n",
       "                             temp_month_6  temp_month_7  temp_month_8  \\\n",
       "site_id species        year                                             \n",
       "ACUN    adelie penguin 1984          2.39         -3.26         -0.48   \n",
       "                       1985          0.49         -1.65          5.43   \n",
       "                       1986          0.29          3.89          0.27   \n",
       "                       1987          0.69         -2.00         -5.22   \n",
       "                       1988          1.74         -1.30          0.12   \n",
       "\n",
       "                             temp_month_9  temp_month_10  temp_month_11  \n",
       "site_id species        year                                              \n",
       "ACUN    adelie penguin 1984          3.94           4.12          -0.49  \n",
       "                       1985          4.25           4.07           0.76  \n",
       "                       1986          0.44          -0.73          -0.69  \n",
       "                       1987          1.80          -2.63          -1.79  \n",
       "                       1988         -4.30          -0.22          -1.70  \n",
       "\n",
       "[5 rows x 38 columns]"
      ]
     },
     "execution_count": 5,
     "metadata": {},
     "output_type": "execute_result"
    }
   ],
   "source": [
    "print(df_train.shape, df_test.shape)\n",
    "df_train.head()"
   ]
  },
  {
   "cell_type": "code",
   "execution_count": 6,
   "metadata": {
    "collapsed": false
   },
   "outputs": [
    {
     "data": {
      "text/plain": [
       "Index(['y_true', 'inferred_y_true', 'inferred_t', 't0', 't1', 't2', 't3',\n",
       "       'countError', 'adelie penguin', 'chinstrap penguin', 'gentoo penguin',\n",
       "       'proximityNestCountChange', 'siteCount', 'sea_ice_month_0',\n",
       "       'sea_ice_month_1', 'sea_ice_month_2', 'sea_ice_month_3',\n",
       "       'sea_ice_month_4', 'sea_ice_month_5', 'sea_ice_month_6',\n",
       "       'sea_ice_month_7', 'sea_ice_month_8', 'sea_ice_month_9',\n",
       "       'sea_ice_month_10', 'sea_ice_month_11', 'krill', 'temp_month_0',\n",
       "       'temp_month_1', 'temp_month_2', 'temp_month_3', 'temp_month_4',\n",
       "       'temp_month_5', 'temp_month_6', 'temp_month_7', 'temp_month_8',\n",
       "       'temp_month_9', 'temp_month_10', 'temp_month_11'],\n",
       "      dtype='object')"
      ]
     },
     "execution_count": 6,
     "metadata": {},
     "output_type": "execute_result"
    }
   ],
   "source": [
    "df_train.columns"
   ]
  },
  {
   "cell_type": "code",
   "execution_count": 7,
   "metadata": {
    "collapsed": false
   },
   "outputs": [],
   "source": [
    "# Get the model\n",
    "ts_steps = 4\n",
    "aux_input_size = 6\n",
    "model = get_model(ts_steps, aux_input_size=aux_input_size)"
   ]
  },
  {
   "cell_type": "code",
   "execution_count": 8,
   "metadata": {
    "collapsed": false,
    "scrolled": true
   },
   "outputs": [],
   "source": [
    "# Run the fitting\n",
    "batch_size = 256\n",
    "model, history = fit_model(df_train, model, df_test, batch_size=batch_size, epochs=300, verbose=0)"
   ]
  },
  {
   "cell_type": "code",
   "execution_count": 9,
   "metadata": {
    "collapsed": false
   },
   "outputs": [
    {
     "name": "stdout",
     "output_type": "stream",
     "text": [
      "Epoch with lowest validation loss is epoch 218 with a loss of 0.27\n",
      "Manually chosen epoch is epoch 218 with a loss of 0.27\n"
     ]
    },
    {
     "data": {
      "image/png": "[encoded data removed]",
      "text/plain": [
       "<matplotlib.figure.Figure at 0x10a8ee048>"
      ]
     },
     "metadata": {},
     "output_type": "display_data"
    }
   ],
   "source": [
    "# Show the history of the validation loss and select the \"best\" number of epochs to run\n",
    "val_loss = history.history['val_loss']\n",
    "best_epoch_auto = np.argmin(val_loss) + 1\n",
    "best_epoch = best_epoch_auto\n",
    "\n",
    "print(\"Epoch with lowest validation loss is epoch %i with a loss of %.2f\" %(best_epoch_auto, val_loss[best_epoch_auto]))\n",
    "print(\"Manually chosen epoch is epoch %i with a loss of %.2f\" %(best_epoch, val_loss[best_epoch]))\n",
    "\n",
    "\n",
    "fig = plt.figure(figsize=(13,5))\n",
    "ax = fig.add_subplot(111)\n",
    "ax.plot(val_loss)\n",
    "ax.axvline(best_epoch-1, color='green', linestyle='dashed');\n",
    "ax.axvline(best_epoch_auto-1, color='red');"
   ]
  },
  {
   "cell_type": "code",
   "execution_count": 10,
   "metadata": {
    "collapsed": false
   },
   "outputs": [],
   "source": [
    "# Get the model\n",
    "np.random.seed(4)\n",
    "ts_steps = 4\n",
    "aux_input_size = 6\n",
    "model = get_model(ts_steps, aux_input_size=aux_input_size)\n",
    "model, history = fit_model(df_train, model, df_test, batch_size=batch_size, epochs=best_epoch, verbose=0)"
   ]
  },
  {
   "cell_type": "code",
   "execution_count": 11,
   "metadata": {
    "collapsed": false
   },
   "outputs": [
    {
     "name": "stdout",
     "output_type": "stream",
     "text": [
      "Epoch with lowest validation loss is epoch 218 with a loss of 0.25\n"
     ]
    },
    {
     "data": {
      "image/png": "[encoded data removed]",
      "text/plain": [
       "<matplotlib.figure.Figure at 0x12b024e10>"
      ]
     },
     "metadata": {},
     "output_type": "display_data"
    }
   ],
   "source": [
    "val_loss_re = history.history['val_loss']\n",
    "best_epoch_re = np.argmin(val_loss_re) + 1\n",
    "\n",
    "print(\"Epoch with lowest validation loss is epoch %i with a loss of %.2f\" %(best_epoch_re, val_loss_re[best_epoch_re-1]))\n",
    "\n",
    "fig = plt.figure(figsize=(13,5))\n",
    "ax = fig.add_subplot(111)\n",
    "ax.plot(val_loss_re)\n",
    "ax.axvline(best_epoch_re-1, color='red');"
   ]
  },
  {
   "cell_type": "code",
   "execution_count": 12,
   "metadata": {
    "collapsed": false,
    "scrolled": false
   },
   "outputs": [
    {
     "data": {
      "text/html": [
       "<div>\n",
       "<table border=\"1\" class=\"dataframe\">\n",
       "  <thead>\n",
       "    <tr style=\"text-align: right;\">\n",
       "      <th></th>\n",
       "      <th></th>\n",
       "      <th></th>\n",
       "      <th>adelie penguin</th>\n",
       "      <th>chinstrap penguin</th>\n",
       "      <th>countError</th>\n",
       "      <th>gentoo penguin</th>\n",
       "      <th>inferred_t</th>\n",
       "      <th>inferred_y_true</th>\n",
       "      <th>krill</th>\n",
       "      <th>proximityNestCountChange</th>\n",
       "      <th>sea_ice_month_0</th>\n",
       "      <th>sea_ice_month_1</th>\n",
       "      <th>...</th>\n",
       "      <th>temp_month_2</th>\n",
       "      <th>temp_month_3</th>\n",
       "      <th>temp_month_4</th>\n",
       "      <th>temp_month_5</th>\n",
       "      <th>temp_month_6</th>\n",
       "      <th>temp_month_7</th>\n",
       "      <th>temp_month_8</th>\n",
       "      <th>temp_month_9</th>\n",
       "      <th>y_pred</th>\n",
       "      <th>y_true</th>\n",
       "    </tr>\n",
       "    <tr>\n",
       "      <th>site_id</th>\n",
       "      <th>species</th>\n",
       "      <th>year</th>\n",
       "      <th></th>\n",
       "      <th></th>\n",
       "      <th></th>\n",
       "      <th></th>\n",
       "      <th></th>\n",
       "      <th></th>\n",
       "      <th></th>\n",
       "      <th></th>\n",
       "      <th></th>\n",
       "      <th></th>\n",
       "      <th></th>\n",
       "      <th></th>\n",
       "      <th></th>\n",
       "      <th></th>\n",
       "      <th></th>\n",
       "      <th></th>\n",
       "      <th></th>\n",
       "      <th></th>\n",
       "      <th></th>\n",
       "      <th></th>\n",
       "      <th></th>\n",
       "    </tr>\n",
       "  </thead>\n",
       "  <tbody>\n",
       "    <tr>\n",
       "      <th rowspan=\"5\" valign=\"top\">ACUN</th>\n",
       "      <th rowspan=\"5\" valign=\"top\">adelie penguin</th>\n",
       "      <th>1984</th>\n",
       "      <td>1.0</td>\n",
       "      <td>0.0</td>\n",
       "      <td>0.707107</td>\n",
       "      <td>0.0</td>\n",
       "      <td>True</td>\n",
       "      <td>1.0</td>\n",
       "      <td>1.051298</td>\n",
       "      <td>0.981254</td>\n",
       "      <td>0.028333</td>\n",
       "      <td>0.000000</td>\n",
       "      <td>...</td>\n",
       "      <td>-0.21</td>\n",
       "      <td>0.38</td>\n",
       "      <td>-0.27</td>\n",
       "      <td>-0.28</td>\n",
       "      <td>2.39</td>\n",
       "      <td>-3.26</td>\n",
       "      <td>-0.48</td>\n",
       "      <td>3.94</td>\n",
       "      <td>0.953339</td>\n",
       "      <td>1.0</td>\n",
       "    </tr>\n",
       "    <tr>\n",
       "      <th>1985</th>\n",
       "      <td>1.0</td>\n",
       "      <td>0.0</td>\n",
       "      <td>0.707107</td>\n",
       "      <td>0.0</td>\n",
       "      <td>True</td>\n",
       "      <td>1.0</td>\n",
       "      <td>5.788702</td>\n",
       "      <td>0.980524</td>\n",
       "      <td>0.000000</td>\n",
       "      <td>0.000000</td>\n",
       "      <td>...</td>\n",
       "      <td>1.59</td>\n",
       "      <td>0.53</td>\n",
       "      <td>-0.32</td>\n",
       "      <td>1.42</td>\n",
       "      <td>0.49</td>\n",
       "      <td>-1.65</td>\n",
       "      <td>5.43</td>\n",
       "      <td>4.25</td>\n",
       "      <td>0.953339</td>\n",
       "      <td>1.0</td>\n",
       "    </tr>\n",
       "    <tr>\n",
       "      <th>1986</th>\n",
       "      <td>1.0</td>\n",
       "      <td>0.0</td>\n",
       "      <td>0.707107</td>\n",
       "      <td>0.0</td>\n",
       "      <td>True</td>\n",
       "      <td>1.0</td>\n",
       "      <td>0.000000</td>\n",
       "      <td>0.979735</td>\n",
       "      <td>0.060278</td>\n",
       "      <td>0.006667</td>\n",
       "      <td>...</td>\n",
       "      <td>0.55</td>\n",
       "      <td>0.43</td>\n",
       "      <td>1.13</td>\n",
       "      <td>1.22</td>\n",
       "      <td>0.29</td>\n",
       "      <td>3.89</td>\n",
       "      <td>0.27</td>\n",
       "      <td>0.44</td>\n",
       "      <td>0.953339</td>\n",
       "      <td>1.0</td>\n",
       "    </tr>\n",
       "    <tr>\n",
       "      <th>1987</th>\n",
       "      <td>1.0</td>\n",
       "      <td>0.0</td>\n",
       "      <td>0.707107</td>\n",
       "      <td>0.0</td>\n",
       "      <td>True</td>\n",
       "      <td>1.0</td>\n",
       "      <td>0.000000</td>\n",
       "      <td>0.978878</td>\n",
       "      <td>0.043889</td>\n",
       "      <td>0.000278</td>\n",
       "      <td>...</td>\n",
       "      <td>0.25</td>\n",
       "      <td>0.37</td>\n",
       "      <td>0.68</td>\n",
       "      <td>-0.48</td>\n",
       "      <td>0.69</td>\n",
       "      <td>-2.00</td>\n",
       "      <td>-5.22</td>\n",
       "      <td>1.80</td>\n",
       "      <td>0.953339</td>\n",
       "      <td>1.0</td>\n",
       "    </tr>\n",
       "    <tr>\n",
       "      <th>1988</th>\n",
       "      <td>1.0</td>\n",
       "      <td>0.0</td>\n",
       "      <td>0.707107</td>\n",
       "      <td>0.0</td>\n",
       "      <td>True</td>\n",
       "      <td>1.0</td>\n",
       "      <td>4.264471</td>\n",
       "      <td>0.977947</td>\n",
       "      <td>0.083611</td>\n",
       "      <td>0.055741</td>\n",
       "      <td>...</td>\n",
       "      <td>0.24</td>\n",
       "      <td>0.93</td>\n",
       "      <td>0.93</td>\n",
       "      <td>0.26</td>\n",
       "      <td>1.74</td>\n",
       "      <td>-1.30</td>\n",
       "      <td>0.12</td>\n",
       "      <td>-4.30</td>\n",
       "      <td>0.953339</td>\n",
       "      <td>1.0</td>\n",
       "    </tr>\n",
       "  </tbody>\n",
       "</table>\n",
       "<p>5 rows × 39 columns</p>\n",
       "</div>"
      ],
      "text/plain": [
       "                             adelie penguin  chinstrap penguin  countError  \\\n",
       "site_id species        year                                                  \n",
       "ACUN    adelie penguin 1984             1.0                0.0    0.707107   \n",
       "                       1985             1.0                0.0    0.707107   \n",
       "                       1986             1.0                0.0    0.707107   \n",
       "                       1987             1.0                0.0    0.707107   \n",
       "                       1988             1.0                0.0    0.707107   \n",
       "\n",
       "                             gentoo penguin inferred_t  inferred_y_true  \\\n",
       "site_id species        year                                               \n",
       "ACUN    adelie penguin 1984             0.0       True              1.0   \n",
       "                       1985             0.0       True              1.0   \n",
       "                       1986             0.0       True              1.0   \n",
       "                       1987             0.0       True              1.0   \n",
       "                       1988             0.0       True              1.0   \n",
       "\n",
       "                                krill  proximityNestCountChange  \\\n",
       "site_id species        year                                       \n",
       "ACUN    adelie penguin 1984  1.051298                  0.981254   \n",
       "                       1985  5.788702                  0.980524   \n",
       "                       1986  0.000000                  0.979735   \n",
       "                       1987  0.000000                  0.978878   \n",
       "                       1988  4.264471                  0.977947   \n",
       "\n",
       "                             sea_ice_month_0  sea_ice_month_1   ...    \\\n",
       "site_id species        year                                     ...     \n",
       "ACUN    adelie penguin 1984         0.028333         0.000000   ...     \n",
       "                       1985         0.000000         0.000000   ...     \n",
       "                       1986         0.060278         0.006667   ...     \n",
       "                       1987         0.043889         0.000278   ...     \n",
       "                       1988         0.083611         0.055741   ...     \n",
       "\n",
       "                             temp_month_2  temp_month_3  temp_month_4  \\\n",
       "site_id species        year                                             \n",
       "ACUN    adelie penguin 1984         -0.21          0.38         -0.27   \n",
       "                       1985          1.59          0.53         -0.32   \n",
       "                       1986          0.55          0.43          1.13   \n",
       "                       1987          0.25          0.37          0.68   \n",
       "                       1988          0.24          0.93          0.93   \n",
       "\n",
       "                             temp_month_5  temp_month_6  temp_month_7  \\\n",
       "site_id species        year                                             \n",
       "ACUN    adelie penguin 1984         -0.28          2.39         -3.26   \n",
       "                       1985          1.42          0.49         -1.65   \n",
       "                       1986          1.22          0.29          3.89   \n",
       "                       1987         -0.48          0.69         -2.00   \n",
       "                       1988          0.26          1.74         -1.30   \n",
       "\n",
       "                             temp_month_8  temp_month_9    y_pred  y_true  \n",
       "site_id species        year                                                \n",
       "ACUN    adelie penguin 1984         -0.48          3.94  0.953339     1.0  \n",
       "                       1985          5.43          4.25  0.953339     1.0  \n",
       "                       1986          0.27          0.44  0.953339     1.0  \n",
       "                       1987         -5.22          1.80  0.953339     1.0  \n",
       "                       1988          0.12         -4.30  0.953339     1.0  \n",
       "\n",
       "[5 rows x 39 columns]"
      ]
     },
     "execution_count": 12,
     "metadata": {},
     "output_type": "execute_result"
    }
   ],
   "source": [
    "# Predict the steps ahead\n",
    "df_predictions = predict(df_features, 4, model, features)\n",
    "df_predictions.head()"
   ]
  },
  {
   "cell_type": "code",
   "execution_count": 13,
   "metadata": {
    "collapsed": false
   },
   "outputs": [
    {
     "data": {
      "text/html": [
       "<div>\n",
       "<table border=\"1\" class=\"dataframe\">\n",
       "  <thead>\n",
       "    <tr style=\"text-align: right;\">\n",
       "      <th></th>\n",
       "      <th>year</th>\n",
       "      <th>1984</th>\n",
       "      <th>1985</th>\n",
       "      <th>1986</th>\n",
       "      <th>1987</th>\n",
       "      <th>1988</th>\n",
       "      <th>1989</th>\n",
       "      <th>1990</th>\n",
       "      <th>1991</th>\n",
       "      <th>1992</th>\n",
       "      <th>1993</th>\n",
       "      <th>...</th>\n",
       "      <th>2008</th>\n",
       "      <th>2009</th>\n",
       "      <th>2010</th>\n",
       "      <th>2011</th>\n",
       "      <th>2012</th>\n",
       "      <th>2013</th>\n",
       "      <th>2014</th>\n",
       "      <th>2015</th>\n",
       "      <th>2016</th>\n",
       "      <th>2017</th>\n",
       "    </tr>\n",
       "    <tr>\n",
       "      <th>site_id</th>\n",
       "      <th>species</th>\n",
       "      <th></th>\n",
       "      <th></th>\n",
       "      <th></th>\n",
       "      <th></th>\n",
       "      <th></th>\n",
       "      <th></th>\n",
       "      <th></th>\n",
       "      <th></th>\n",
       "      <th></th>\n",
       "      <th></th>\n",
       "      <th></th>\n",
       "      <th></th>\n",
       "      <th></th>\n",
       "      <th></th>\n",
       "      <th></th>\n",
       "      <th></th>\n",
       "      <th></th>\n",
       "      <th></th>\n",
       "      <th></th>\n",
       "      <th></th>\n",
       "      <th></th>\n",
       "    </tr>\n",
       "  </thead>\n",
       "  <tbody>\n",
       "    <tr>\n",
       "      <th rowspan=\"2\" valign=\"top\">ACUN</th>\n",
       "      <th>adelie penguin</th>\n",
       "      <td>1914.0</td>\n",
       "      <td>1914.0</td>\n",
       "      <td>1914.0</td>\n",
       "      <td>1914.0</td>\n",
       "      <td>1914.0</td>\n",
       "      <td>1914.0</td>\n",
       "      <td>1914.0</td>\n",
       "      <td>1914.0</td>\n",
       "      <td>1914.0</td>\n",
       "      <td>1914.0</td>\n",
       "      <td>...</td>\n",
       "      <td>2487.0</td>\n",
       "      <td>2677.0</td>\n",
       "      <td>2868.0</td>\n",
       "      <td>3015.0</td>\n",
       "      <td>2967.0</td>\n",
       "      <td>2949.0</td>\n",
       "      <td>2905.0</td>\n",
       "      <td>2700.0</td>\n",
       "      <td>2480.0</td>\n",
       "      <td>2250.0</td>\n",
       "    </tr>\n",
       "    <tr>\n",
       "      <th>chinstrap penguin</th>\n",
       "      <td>3813.0</td>\n",
       "      <td>3813.0</td>\n",
       "      <td>3813.0</td>\n",
       "      <td>3813.0</td>\n",
       "      <td>3813.0</td>\n",
       "      <td>3813.0</td>\n",
       "      <td>3813.0</td>\n",
       "      <td>3813.0</td>\n",
       "      <td>3813.0</td>\n",
       "      <td>3813.0</td>\n",
       "      <td>...</td>\n",
       "      <td>3813.0</td>\n",
       "      <td>3813.0</td>\n",
       "      <td>3813.0</td>\n",
       "      <td>3813.0</td>\n",
       "      <td>3813.0</td>\n",
       "      <td>3813.0</td>\n",
       "      <td>3769.0</td>\n",
       "      <td>3499.0</td>\n",
       "      <td>3210.0</td>\n",
       "      <td>2908.0</td>\n",
       "    </tr>\n",
       "    <tr>\n",
       "      <th>ADAM</th>\n",
       "      <th>adelie penguin</th>\n",
       "      <td>72.0</td>\n",
       "      <td>72.0</td>\n",
       "      <td>72.0</td>\n",
       "      <td>72.0</td>\n",
       "      <td>72.0</td>\n",
       "      <td>72.0</td>\n",
       "      <td>72.0</td>\n",
       "      <td>72.0</td>\n",
       "      <td>72.0</td>\n",
       "      <td>72.0</td>\n",
       "      <td>...</td>\n",
       "      <td>72.0</td>\n",
       "      <td>72.0</td>\n",
       "      <td>72.0</td>\n",
       "      <td>72.0</td>\n",
       "      <td>72.0</td>\n",
       "      <td>72.0</td>\n",
       "      <td>72.0</td>\n",
       "      <td>66.0</td>\n",
       "      <td>61.0</td>\n",
       "      <td>55.0</td>\n",
       "    </tr>\n",
       "    <tr>\n",
       "      <th>ADAR</th>\n",
       "      <th>adelie penguin</th>\n",
       "      <td>246797.0</td>\n",
       "      <td>256881.0</td>\n",
       "      <td>265749.0</td>\n",
       "      <td>271345.0</td>\n",
       "      <td>263397.0</td>\n",
       "      <td>246019.0</td>\n",
       "      <td>185491.0</td>\n",
       "      <td>163973.0</td>\n",
       "      <td>246763.0</td>\n",
       "      <td>304363.0</td>\n",
       "      <td>...</td>\n",
       "      <td>322551.0</td>\n",
       "      <td>322507.0</td>\n",
       "      <td>322464.0</td>\n",
       "      <td>329340.0</td>\n",
       "      <td>365039.0</td>\n",
       "      <td>396422.0</td>\n",
       "      <td>420092.0</td>\n",
       "      <td>402795.0</td>\n",
       "      <td>379954.0</td>\n",
       "      <td>352451.0</td>\n",
       "    </tr>\n",
       "    <tr>\n",
       "      <th>AILS</th>\n",
       "      <th>chinstrap penguin</th>\n",
       "      <td>5720.0</td>\n",
       "      <td>5720.0</td>\n",
       "      <td>5720.0</td>\n",
       "      <td>5720.0</td>\n",
       "      <td>5720.0</td>\n",
       "      <td>5720.0</td>\n",
       "      <td>5720.0</td>\n",
       "      <td>5720.0</td>\n",
       "      <td>5720.0</td>\n",
       "      <td>5720.0</td>\n",
       "      <td>...</td>\n",
       "      <td>5720.0</td>\n",
       "      <td>5720.0</td>\n",
       "      <td>5720.0</td>\n",
       "      <td>5720.0</td>\n",
       "      <td>5720.0</td>\n",
       "      <td>5720.0</td>\n",
       "      <td>5654.0</td>\n",
       "      <td>5249.0</td>\n",
       "      <td>4815.0</td>\n",
       "      <td>4363.0</td>\n",
       "    </tr>\n",
       "  </tbody>\n",
       "</table>\n",
       "<p>5 rows × 34 columns</p>\n",
       "</div>"
      ],
      "text/plain": [
       "year                           1984      1985      1986      1987      1988  \\\n",
       "site_id species                                                               \n",
       "ACUN    adelie penguin       1914.0    1914.0    1914.0    1914.0    1914.0   \n",
       "        chinstrap penguin    3813.0    3813.0    3813.0    3813.0    3813.0   \n",
       "ADAM    adelie penguin         72.0      72.0      72.0      72.0      72.0   \n",
       "ADAR    adelie penguin     246797.0  256881.0  265749.0  271345.0  263397.0   \n",
       "AILS    chinstrap penguin    5720.0    5720.0    5720.0    5720.0    5720.0   \n",
       "\n",
       "year                           1989      1990      1991      1992      1993  \\\n",
       "site_id species                                                               \n",
       "ACUN    adelie penguin       1914.0    1914.0    1914.0    1914.0    1914.0   \n",
       "        chinstrap penguin    3813.0    3813.0    3813.0    3813.0    3813.0   \n",
       "ADAM    adelie penguin         72.0      72.0      72.0      72.0      72.0   \n",
       "ADAR    adelie penguin     246019.0  185491.0  163973.0  246763.0  304363.0   \n",
       "AILS    chinstrap penguin    5720.0    5720.0    5720.0    5720.0    5720.0   \n",
       "\n",
       "year                         ...         2008      2009      2010      2011  \\\n",
       "site_id species              ...                                              \n",
       "ACUN    adelie penguin       ...       2487.0    2677.0    2868.0    3015.0   \n",
       "        chinstrap penguin    ...       3813.0    3813.0    3813.0    3813.0   \n",
       "ADAM    adelie penguin       ...         72.0      72.0      72.0      72.0   \n",
       "ADAR    adelie penguin       ...     322551.0  322507.0  322464.0  329340.0   \n",
       "AILS    chinstrap penguin    ...       5720.0    5720.0    5720.0    5720.0   \n",
       "\n",
       "year                           2012      2013      2014      2015      2016  \\\n",
       "site_id species                                                               \n",
       "ACUN    adelie penguin       2967.0    2949.0    2905.0    2700.0    2480.0   \n",
       "        chinstrap penguin    3813.0    3813.0    3769.0    3499.0    3210.0   \n",
       "ADAM    adelie penguin         72.0      72.0      72.0      66.0      61.0   \n",
       "ADAR    adelie penguin     365039.0  396422.0  420092.0  402795.0  379954.0   \n",
       "AILS    chinstrap penguin    5720.0    5720.0    5654.0    5249.0    4815.0   \n",
       "\n",
       "year                           2017  \n",
       "site_id species                      \n",
       "ACUN    adelie penguin       2250.0  \n",
       "        chinstrap penguin    2908.0  \n",
       "ADAM    adelie penguin         55.0  \n",
       "ADAR    adelie penguin     352451.0  \n",
       "AILS    chinstrap penguin    4363.0  \n",
       "\n",
       "[5 rows x 34 columns]"
      ]
     },
     "execution_count": 13,
     "metadata": {},
     "output_type": "execute_result"
    }
   ],
   "source": [
    "# Rescale the predictions\n",
    "df_predictions = convert_predictions(df_predictions, scaler)\n",
    "df_predictions = df_predictions.round()\n",
    "df_predictions.head()"
   ]
  },
  {
   "cell_type": "code",
   "execution_count": 14,
   "metadata": {
    "collapsed": false
   },
   "outputs": [
    {
     "name": "stdout",
     "output_type": "stream",
     "text": [
      "AMAPE 2011: 0.26\n",
      "AMAPE 2012: 0.35\n",
      "AMAPE 2013: 0.37\n",
      "Projected AMAPE score: 0.98\n"
     ]
    },
    {
     "data": {
      "image/png": "[encoded data removed]",
      "text/plain": [
       "<matplotlib.figure.Figure at 0x1281ab198>"
      ]
     },
     "metadata": {},
     "output_type": "display_data"
    }
   ],
   "source": [
    "# Show some estimate of what the final score for the test set would be.\n",
    "# First, show the score for all data (i.e. including the interpolated counts)\n",
    "amape = AMAPE(interpolated=True)\n",
    "amapeScore = amape.amape(df_predictions)\n",
    "\n",
    "print(\"AMAPE 2011: %.2f\" %amapeScore.loc['2011'])\n",
    "print(\"AMAPE 2012: %.2f\" %amapeScore.loc['2012'])\n",
    "print(\"AMAPE 2013: %.2f\" %amapeScore.loc['2013'])\n",
    "print(\"Projected AMAPE score: %.2f\" %(amapeScore.loc['2011']+amapeScore.loc['2012']+amapeScore.loc['2013']))\n",
    "\n",
    "plt.figure(figsize=(10,5))\n",
    "plt.plot(amapeScore);"
   ]
  },
  {
   "cell_type": "code",
   "execution_count": 15,
   "metadata": {
    "collapsed": false
   },
   "outputs": [
    {
     "name": "stdout",
     "output_type": "stream",
     "text": [
      "AMAPE 2011: 1.67\n",
      "AMAPE 2012: 1.68\n",
      "AMAPE 2013: 2.43\n",
      "Projected AMAPE score: 5.77\n"
     ]
    },
    {
     "data": {
      "image/png": "[encoded data removed]",
      "text/plain": [
       "<matplotlib.figure.Figure at 0x1283c1160>"
      ]
     },
     "metadata": {},
     "output_type": "display_data"
    }
   ],
   "source": [
    "# Show the score only for the truly observed predictions. This will be harder to predict since the interpolated\n",
    "# data is smooth and thus much easier to predict.\n",
    "amape = AMAPE(interpolated=False)\n",
    "amapeScore = amape.amape(df_predictions)\n",
    "\n",
    "print(\"AMAPE 2011: %.2f\" %amapeScore.loc['2011'])\n",
    "print(\"AMAPE 2012: %.2f\" %amapeScore.loc['2012'])\n",
    "print(\"AMAPE 2013: %.2f\" %amapeScore.loc['2013'])\n",
    "print(\"Projected AMAPE score: %.2f\" %(amapeScore.loc['2011']+amapeScore.loc['2012']+amapeScore.loc['2013']))\n",
    "\n",
    "plt.figure(figsize=(10,5))\n",
    "plt.plot(amapeScore);"
   ]
  },
  {
   "cell_type": "code",
   "execution_count": 16,
   "metadata": {
    "collapsed": false
   },
   "outputs": [
    {
     "data": {
      "image/png": "[encoded data removed]",
      "text/plain": [
       "<matplotlib.figure.Figure at 0x128429e48>"
      ]
     },
     "metadata": {},
     "output_type": "display_data"
    }
   ],
   "source": [
    "# Have look at some random sites and species and check if the model seems to make sense\n",
    "vis = PenguinVisualisation(df_predictions)\n",
    "vis.plot_random()"
   ]
  },
  {
   "cell_type": "code",
   "execution_count": 17,
   "metadata": {
    "collapsed": false
   },
   "outputs": [
    {
     "data": {
      "text/html": [
       "<div>\n",
       "<table border=\"1\" class=\"dataframe\">\n",
       "  <thead>\n",
       "    <tr style=\"text-align: right;\">\n",
       "      <th></th>\n",
       "      <th></th>\n",
       "      <th>2014</th>\n",
       "      <th>2015</th>\n",
       "      <th>2016</th>\n",
       "      <th>2017</th>\n",
       "    </tr>\n",
       "    <tr>\n",
       "      <th>site_id</th>\n",
       "      <th>common_name</th>\n",
       "      <th></th>\n",
       "      <th></th>\n",
       "      <th></th>\n",
       "      <th></th>\n",
       "    </tr>\n",
       "  </thead>\n",
       "  <tbody>\n",
       "    <tr>\n",
       "      <th rowspan=\"2\" valign=\"top\">ACUN</th>\n",
       "      <th>adelie penguin</th>\n",
       "      <td>2919.0</td>\n",
       "      <td>2726.0</td>\n",
       "      <td>2513.0</td>\n",
       "      <td>2289.0</td>\n",
       "    </tr>\n",
       "    <tr>\n",
       "      <th>chinstrap penguin</th>\n",
       "      <td>3788.0</td>\n",
       "      <td>3534.0</td>\n",
       "      <td>3254.0</td>\n",
       "      <td>2961.0</td>\n",
       "    </tr>\n",
       "    <tr>\n",
       "      <th>ADAM</th>\n",
       "      <th>adelie penguin</th>\n",
       "      <td>72.0</td>\n",
       "      <td>67.0</td>\n",
       "      <td>62.0</td>\n",
       "      <td>56.0</td>\n",
       "    </tr>\n",
       "    <tr>\n",
       "      <th>ADAR</th>\n",
       "      <th>adelie penguin</th>\n",
       "      <td>419343.0</td>\n",
       "      <td>403972.0</td>\n",
       "      <td>382123.0</td>\n",
       "      <td>355747.0</td>\n",
       "    </tr>\n",
       "    <tr>\n",
       "      <th>AILS</th>\n",
       "      <th>chinstrap penguin</th>\n",
       "      <td>5682.0</td>\n",
       "      <td>5301.0</td>\n",
       "      <td>4880.0</td>\n",
       "      <td>4441.0</td>\n",
       "    </tr>\n",
       "  </tbody>\n",
       "</table>\n",
       "</div>"
      ],
      "text/plain": [
       "                               2014      2015      2016      2017\n",
       "site_id common_name                                              \n",
       "ACUN    adelie penguin       2919.0    2726.0    2513.0    2289.0\n",
       "        chinstrap penguin    3788.0    3534.0    3254.0    2961.0\n",
       "ADAM    adelie penguin         72.0      67.0      62.0      56.0\n",
       "ADAR    adelie penguin     419343.0  403972.0  382123.0  355747.0\n",
       "AILS    chinstrap penguin    5682.0    5301.0    4880.0    4441.0"
      ]
     },
     "execution_count": 17,
     "metadata": {},
     "output_type": "execute_result"
    }
   ],
   "source": [
    "# Finally, retrain the model with the full data and make the predictions for the submission\n",
    "np.random.seed(4)\n",
    "model = get_model(ts_steps, aux_input_size=aux_input_size)\n",
    "model, _ = fit_model(df_features, model, None, batch_size=batch_size, epochs=best_epoch, verbose=0)\n",
    "\n",
    "# Make the predictions\n",
    "df_predictions = predict(df_features, 4, model, features)\n",
    "df_predictions = convert_predictions(df_predictions, scaler)\n",
    "df_predictions = df_predictions.round()\n",
    "\n",
    "# Prepare the submission\n",
    "df_submission = assemble_submission(df_predictions)\n",
    "df_submission.head()"
   ]
  },
  {
   "cell_type": "code",
   "execution_count": 18,
   "metadata": {
    "collapsed": false
   },
   "outputs": [
    {
     "name": "stdout",
     "output_type": "stream",
     "text": [
      "AMAPE 2011: 1.60\n",
      "AMAPE 2012: 1.72\n",
      "AMAPE 2013: 2.65\n",
      "Projected AMAPE score: 5.97\n"
     ]
    },
    {
     "data": {
      "image/png": "[encoded data removed]",
      "text/plain": [
       "<matplotlib.figure.Figure at 0x121fcde10>"
      ]
     },
     "metadata": {},
     "output_type": "display_data"
    }
   ],
   "source": [
    "# Check if the score changes much compared to the run without the test data.\n",
    "amape = AMAPE(interpolated=False)\n",
    "amapeScore = amape.amape(df_predictions)\n",
    "\n",
    "print(\"AMAPE 2011: %.2f\" %amapeScore.loc['2011'])\n",
    "print(\"AMAPE 2012: %.2f\" %amapeScore.loc['2012'])\n",
    "print(\"AMAPE 2013: %.2f\" %amapeScore.loc['2013'])\n",
    "print(\"Projected AMAPE score: %.2f\" %(amapeScore.loc['2011']+amapeScore.loc['2012']+amapeScore.loc['2013']))\n",
    "\n",
    "plt.figure(figsize=(10,5))\n",
    "plt.plot(amapeScore);"
   ]
  },
  {
   "cell_type": "code",
   "execution_count": 19,
   "metadata": {
    "collapsed": true
   },
   "outputs": [],
   "source": [
    "fname_submission = '../data/submission/submission_03.csv'\n",
    "df_submission.to_csv(fname_submission, index=True)"
   ]
  },
  {
   "cell_type": "code",
   "execution_count": null,
   "metadata": {
    "collapsed": false
   },
   "outputs": [],
   "source": []
  },
  {
   "cell_type": "code",
   "execution_count": null,
   "metadata": {
    "collapsed": true
   },
   "outputs": [],
   "source": []
  }
 ],
 "metadata": {
  "anaconda-cloud": {},
  "kernelspec": {
   "display_name": "Python [conda env:keras]",
   "language": "python",
   "name": "conda-env-keras-py"
  },
  "language_info": {
   "codemirror_mode": {
    "name": "ipython",
    "version": 3
   },
   "file_extension": ".py",
   "mimetype": "text/x-python",
   "name": "python",
   "nbconvert_exporter": "python",
   "pygments_lexer": "ipython3",
   "version": "3.4.5"
  }
 },
 "nbformat": 4,
 "nbformat_minor": 2
}
