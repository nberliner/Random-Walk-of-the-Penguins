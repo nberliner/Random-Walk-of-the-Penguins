{
 "cells": [
  {
   "cell_type": "code",
   "execution_count": 1,
   "metadata": {
    "collapsed": false
   },
   "outputs": [
    {
     "name": "stdout",
     "output_type": "stream",
     "text": [
      "Populating the interactive namespace from numpy and matplotlib\n"
     ]
    }
   ],
   "source": [
    "%pylab inline"
   ]
  },
  {
   "cell_type": "code",
   "execution_count": 2,
   "metadata": {
    "collapsed": true
   },
   "outputs": [],
   "source": [
    "# See http://drivendata.github.io/cookiecutter-data-science/\n",
    "import os\n",
    "import sys\n",
    "\n",
    "src_dir = os.path.join(os.getcwd(), os.pardir, 'src')\n",
    "sys.path.append(src_dir)"
   ]
  },
  {
   "cell_type": "code",
   "execution_count": 3,
   "metadata": {
    "collapsed": false
   },
   "outputs": [
    {
     "name": "stderr",
     "output_type": "stream",
     "text": [
      "Using Theano backend.\n"
     ]
    }
   ],
   "source": [
    "import pickle\n",
    "\n",
    "import numpy as np\n",
    "import pandas as pd\n",
    "\n",
    "# Set the seed for Keras\n",
    "np.random.seed(4)\n",
    "\n",
    "from data.data import get_data, noise_bagging\n",
    "from features.features import Features\n",
    "\n",
    "from model.model import split_train_test"
   ]
  },
  {
   "cell_type": "code",
   "execution_count": 4,
   "metadata": {
    "collapsed": true
   },
   "outputs": [],
   "source": [
    "# Define the properties of this run\n",
    "\n",
    "# Set the number of time steps that will be used in for the RNN\n",
    "ts_steps = 4\n",
    "\n",
    "# Set the radius in km that will be used to compute the nest count of neighbouring nests\n",
    "nestCount_radius = 50 # was 200 # tiny bit better\n",
    "\n",
    "# Set the radius in which the krill data will be reported for each nest\n",
    "krill_radius = 100 # was 300\n",
    "\n",
    "# Set the area which is used for computing the sea ice feature\n",
    "padding = 1"
   ]
  },
  {
   "cell_type": "code",
   "execution_count": 5,
   "metadata": {
    "collapsed": false
   },
   "outputs": [
    {
     "data": {
      "text/html": [
       "<div>\n",
       "<table border=\"1\" class=\"dataframe\">\n",
       "  <thead>\n",
       "    <tr style=\"text-align: right;\">\n",
       "      <th></th>\n",
       "      <th></th>\n",
       "      <th></th>\n",
       "      <th>y_true</th>\n",
       "      <th>inferred_y_true</th>\n",
       "      <th>inferred_t</th>\n",
       "      <th>t0</th>\n",
       "      <th>t1</th>\n",
       "      <th>t2</th>\n",
       "      <th>t3</th>\n",
       "      <th>countError</th>\n",
       "    </tr>\n",
       "    <tr>\n",
       "      <th>site_id</th>\n",
       "      <th>species</th>\n",
       "      <th>year</th>\n",
       "      <th></th>\n",
       "      <th></th>\n",
       "      <th></th>\n",
       "      <th></th>\n",
       "      <th></th>\n",
       "      <th></th>\n",
       "      <th></th>\n",
       "      <th></th>\n",
       "    </tr>\n",
       "  </thead>\n",
       "  <tbody>\n",
       "    <tr>\n",
       "      <th rowspan=\"2\" valign=\"top\">ACUN</th>\n",
       "      <th>adelie penguin</th>\n",
       "      <th>1983</th>\n",
       "      <td>1.0000</td>\n",
       "      <td>True</td>\n",
       "      <td>True</td>\n",
       "      <td>NaN</td>\n",
       "      <td>1.0</td>\n",
       "      <td>1.0</td>\n",
       "      <td>1.0</td>\n",
       "      <td>0.707107</td>\n",
       "    </tr>\n",
       "    <tr>\n",
       "      <th>chinstrap penguin</th>\n",
       "      <th>1983</th>\n",
       "      <td>1.0000</td>\n",
       "      <td>True</td>\n",
       "      <td>False</td>\n",
       "      <td>NaN</td>\n",
       "      <td>1.0</td>\n",
       "      <td>1.0</td>\n",
       "      <td>1.0</td>\n",
       "      <td>0.707107</td>\n",
       "    </tr>\n",
       "    <tr>\n",
       "      <th>ADAM</th>\n",
       "      <th>adelie penguin</th>\n",
       "      <th>1983</th>\n",
       "      <td>1.0000</td>\n",
       "      <td>True</td>\n",
       "      <td>True</td>\n",
       "      <td>NaN</td>\n",
       "      <td>1.0</td>\n",
       "      <td>1.0</td>\n",
       "      <td>1.0</td>\n",
       "      <td>0.707107</td>\n",
       "    </tr>\n",
       "    <tr>\n",
       "      <th>ADAR</th>\n",
       "      <th>adelie penguin</th>\n",
       "      <th>1983</th>\n",
       "      <td>1.0331</td>\n",
       "      <td>True</td>\n",
       "      <td>False</td>\n",
       "      <td>NaN</td>\n",
       "      <td>1.0</td>\n",
       "      <td>1.0</td>\n",
       "      <td>1.0</td>\n",
       "      <td>0.196116</td>\n",
       "    </tr>\n",
       "    <tr>\n",
       "      <th>AILS</th>\n",
       "      <th>chinstrap penguin</th>\n",
       "      <th>1983</th>\n",
       "      <td>1.0000</td>\n",
       "      <td>True</td>\n",
       "      <td>False</td>\n",
       "      <td>NaN</td>\n",
       "      <td>1.0</td>\n",
       "      <td>1.0</td>\n",
       "      <td>1.0</td>\n",
       "      <td>0.707107</td>\n",
       "    </tr>\n",
       "  </tbody>\n",
       "</table>\n",
       "</div>"
      ],
      "text/plain": [
       "                                y_true inferred_y_true inferred_t  t0   t1  \\\n",
       "site_id species           year                                               \n",
       "ACUN    adelie penguin    1983  1.0000            True       True NaN  1.0   \n",
       "        chinstrap penguin 1983  1.0000            True      False NaN  1.0   \n",
       "ADAM    adelie penguin    1983  1.0000            True       True NaN  1.0   \n",
       "ADAR    adelie penguin    1983  1.0331            True      False NaN  1.0   \n",
       "AILS    chinstrap penguin 1983  1.0000            True      False NaN  1.0   \n",
       "\n",
       "                                 t2   t3  countError  \n",
       "site_id species           year                        \n",
       "ACUN    adelie penguin    1983  1.0  1.0    0.707107  \n",
       "        chinstrap penguin 1983  1.0  1.0    0.707107  \n",
       "ADAM    adelie penguin    1983  1.0  1.0    0.707107  \n",
       "ADAR    adelie penguin    1983  1.0  1.0    0.196116  \n",
       "AILS    chinstrap penguin 1983  1.0  1.0    0.707107  "
      ]
     },
     "execution_count": 5,
     "metadata": {},
     "output_type": "execute_result"
    }
   ],
   "source": [
    "# Get the data with the specified time lag. The time series is assembled as relative difference\n",
    "# betweene the successive steps.\n",
    "df_features, scaler = get_data(ts_steps)\n",
    "df_features.head()"
   ]
  },
  {
   "cell_type": "code",
   "execution_count": 6,
   "metadata": {
    "collapsed": true
   },
   "outputs": [],
   "source": [
    "# Remove the first occurence\n",
    "df_features.dropna(inplace=True)"
   ]
  },
  {
   "cell_type": "code",
   "execution_count": 7,
   "metadata": {
    "collapsed": false,
    "scrolled": true
   },
   "outputs": [
    {
     "name": "stdout",
     "output_type": "stream",
     "text": [
      "Found nest count pre-computed distance matrix in data/interim\n"
     ]
    },
    {
     "name": "stderr",
     "output_type": "stream",
     "text": [
      "Widget Javascript not detected.  It may not be installed properly. Did you enable the widgetsnbextension? If not, then run \"jupyter nbextension enable --py --sys-prefix widgetsnbextension\"\n"
     ]
    },
    {
     "name": "stdout",
     "output_type": "stream",
     "text": [
      "\n",
      "Loading sea ice distMat from data/interim/\n",
      "Found krill pre-computed distance matrix in data/interim\n"
     ]
    },
    {
     "data": {
      "text/html": [
       "<div>\n",
       "<table border=\"1\" class=\"dataframe\">\n",
       "  <thead>\n",
       "    <tr style=\"text-align: right;\">\n",
       "      <th></th>\n",
       "      <th></th>\n",
       "      <th></th>\n",
       "      <th>y_true</th>\n",
       "      <th>inferred_y_true</th>\n",
       "      <th>inferred_t</th>\n",
       "      <th>t0</th>\n",
       "      <th>t1</th>\n",
       "      <th>t2</th>\n",
       "      <th>t3</th>\n",
       "      <th>countError</th>\n",
       "      <th>adelie penguin</th>\n",
       "      <th>chinstrap penguin</th>\n",
       "      <th>...</th>\n",
       "      <th>temp_month_2</th>\n",
       "      <th>temp_month_3</th>\n",
       "      <th>temp_month_4</th>\n",
       "      <th>temp_month_5</th>\n",
       "      <th>temp_month_6</th>\n",
       "      <th>temp_month_7</th>\n",
       "      <th>temp_month_8</th>\n",
       "      <th>temp_month_9</th>\n",
       "      <th>temp_month_10</th>\n",
       "      <th>temp_month_11</th>\n",
       "    </tr>\n",
       "    <tr>\n",
       "      <th>site_id</th>\n",
       "      <th>species</th>\n",
       "      <th>year</th>\n",
       "      <th></th>\n",
       "      <th></th>\n",
       "      <th></th>\n",
       "      <th></th>\n",
       "      <th></th>\n",
       "      <th></th>\n",
       "      <th></th>\n",
       "      <th></th>\n",
       "      <th></th>\n",
       "      <th></th>\n",
       "      <th></th>\n",
       "      <th></th>\n",
       "      <th></th>\n",
       "      <th></th>\n",
       "      <th></th>\n",
       "      <th></th>\n",
       "      <th></th>\n",
       "      <th></th>\n",
       "      <th></th>\n",
       "      <th></th>\n",
       "      <th></th>\n",
       "    </tr>\n",
       "  </thead>\n",
       "  <tbody>\n",
       "    <tr>\n",
       "      <th rowspan=\"5\" valign=\"top\">ACUN</th>\n",
       "      <th rowspan=\"5\" valign=\"top\">adelie penguin</th>\n",
       "      <th>1984</th>\n",
       "      <td>1.0</td>\n",
       "      <td>True</td>\n",
       "      <td>True</td>\n",
       "      <td>1.0</td>\n",
       "      <td>1.0</td>\n",
       "      <td>1.0</td>\n",
       "      <td>1.0</td>\n",
       "      <td>0.707107</td>\n",
       "      <td>1.0</td>\n",
       "      <td>0.0</td>\n",
       "      <td>...</td>\n",
       "      <td>-0.21</td>\n",
       "      <td>0.38</td>\n",
       "      <td>-0.27</td>\n",
       "      <td>-0.28</td>\n",
       "      <td>2.39</td>\n",
       "      <td>-3.26</td>\n",
       "      <td>-0.48</td>\n",
       "      <td>3.94</td>\n",
       "      <td>4.12</td>\n",
       "      <td>-0.49</td>\n",
       "    </tr>\n",
       "    <tr>\n",
       "      <th>1985</th>\n",
       "      <td>1.0</td>\n",
       "      <td>True</td>\n",
       "      <td>True</td>\n",
       "      <td>1.0</td>\n",
       "      <td>1.0</td>\n",
       "      <td>1.0</td>\n",
       "      <td>1.0</td>\n",
       "      <td>0.707107</td>\n",
       "      <td>1.0</td>\n",
       "      <td>0.0</td>\n",
       "      <td>...</td>\n",
       "      <td>1.59</td>\n",
       "      <td>0.53</td>\n",
       "      <td>-0.32</td>\n",
       "      <td>1.42</td>\n",
       "      <td>0.49</td>\n",
       "      <td>-1.65</td>\n",
       "      <td>5.43</td>\n",
       "      <td>4.25</td>\n",
       "      <td>4.07</td>\n",
       "      <td>0.76</td>\n",
       "    </tr>\n",
       "    <tr>\n",
       "      <th>1986</th>\n",
       "      <td>1.0</td>\n",
       "      <td>True</td>\n",
       "      <td>True</td>\n",
       "      <td>1.0</td>\n",
       "      <td>1.0</td>\n",
       "      <td>1.0</td>\n",
       "      <td>1.0</td>\n",
       "      <td>0.707107</td>\n",
       "      <td>1.0</td>\n",
       "      <td>0.0</td>\n",
       "      <td>...</td>\n",
       "      <td>0.55</td>\n",
       "      <td>0.43</td>\n",
       "      <td>1.13</td>\n",
       "      <td>1.22</td>\n",
       "      <td>0.29</td>\n",
       "      <td>3.89</td>\n",
       "      <td>0.27</td>\n",
       "      <td>0.44</td>\n",
       "      <td>-0.73</td>\n",
       "      <td>-0.69</td>\n",
       "    </tr>\n",
       "    <tr>\n",
       "      <th>1987</th>\n",
       "      <td>1.0</td>\n",
       "      <td>True</td>\n",
       "      <td>True</td>\n",
       "      <td>1.0</td>\n",
       "      <td>1.0</td>\n",
       "      <td>1.0</td>\n",
       "      <td>1.0</td>\n",
       "      <td>0.707107</td>\n",
       "      <td>1.0</td>\n",
       "      <td>0.0</td>\n",
       "      <td>...</td>\n",
       "      <td>0.25</td>\n",
       "      <td>0.37</td>\n",
       "      <td>0.68</td>\n",
       "      <td>-0.48</td>\n",
       "      <td>0.69</td>\n",
       "      <td>-2.00</td>\n",
       "      <td>-5.22</td>\n",
       "      <td>1.80</td>\n",
       "      <td>-2.63</td>\n",
       "      <td>-1.79</td>\n",
       "    </tr>\n",
       "    <tr>\n",
       "      <th>1988</th>\n",
       "      <td>1.0</td>\n",
       "      <td>True</td>\n",
       "      <td>True</td>\n",
       "      <td>1.0</td>\n",
       "      <td>1.0</td>\n",
       "      <td>1.0</td>\n",
       "      <td>1.0</td>\n",
       "      <td>0.707107</td>\n",
       "      <td>1.0</td>\n",
       "      <td>0.0</td>\n",
       "      <td>...</td>\n",
       "      <td>0.24</td>\n",
       "      <td>0.93</td>\n",
       "      <td>0.93</td>\n",
       "      <td>0.26</td>\n",
       "      <td>1.74</td>\n",
       "      <td>-1.30</td>\n",
       "      <td>0.12</td>\n",
       "      <td>-4.30</td>\n",
       "      <td>-0.22</td>\n",
       "      <td>-1.70</td>\n",
       "    </tr>\n",
       "  </tbody>\n",
       "</table>\n",
       "<p>5 rows × 38 columns</p>\n",
       "</div>"
      ],
      "text/plain": [
       "                             y_true inferred_y_true inferred_t   t0   t1   t2  \\\n",
       "site_id species        year                                                     \n",
       "ACUN    adelie penguin 1984     1.0            True       True  1.0  1.0  1.0   \n",
       "                       1985     1.0            True       True  1.0  1.0  1.0   \n",
       "                       1986     1.0            True       True  1.0  1.0  1.0   \n",
       "                       1987     1.0            True       True  1.0  1.0  1.0   \n",
       "                       1988     1.0            True       True  1.0  1.0  1.0   \n",
       "\n",
       "                              t3  countError  adelie penguin  \\\n",
       "site_id species        year                                    \n",
       "ACUN    adelie penguin 1984  1.0    0.707107             1.0   \n",
       "                       1985  1.0    0.707107             1.0   \n",
       "                       1986  1.0    0.707107             1.0   \n",
       "                       1987  1.0    0.707107             1.0   \n",
       "                       1988  1.0    0.707107             1.0   \n",
       "\n",
       "                             chinstrap penguin      ...        temp_month_2  \\\n",
       "site_id species        year                         ...                       \n",
       "ACUN    adelie penguin 1984                0.0      ...               -0.21   \n",
       "                       1985                0.0      ...                1.59   \n",
       "                       1986                0.0      ...                0.55   \n",
       "                       1987                0.0      ...                0.25   \n",
       "                       1988                0.0      ...                0.24   \n",
       "\n",
       "                             temp_month_3  temp_month_4  temp_month_5  \\\n",
       "site_id species        year                                             \n",
       "ACUN    adelie penguin 1984          0.38         -0.27         -0.28   \n",
       "                       1985          0.53         -0.32          1.42   \n",
       "                       1986          0.43          1.13          1.22   \n",
       "                       1987          0.37          0.68         -0.48   \n",
       "                       1988          0.93          0.93          0.26   \n",
       "\n",
       "                             temp_month_6  temp_month_7  temp_month_8  \\\n",
       "site_id species        year                                             \n",
       "ACUN    adelie penguin 1984          2.39         -3.26         -0.48   \n",
       "                       1985          0.49         -1.65          5.43   \n",
       "                       1986          0.29          3.89          0.27   \n",
       "                       1987          0.69         -2.00         -5.22   \n",
       "                       1988          1.74         -1.30          0.12   \n",
       "\n",
       "                             temp_month_9  temp_month_10  temp_month_11  \n",
       "site_id species        year                                              \n",
       "ACUN    adelie penguin 1984          3.94           4.12          -0.49  \n",
       "                       1985          4.25           4.07           0.76  \n",
       "                       1986          0.44          -0.73          -0.69  \n",
       "                       1987          1.80          -2.63          -1.79  \n",
       "                       1988         -4.30          -0.22          -1.70  \n",
       "\n",
       "[5 rows x 38 columns]"
      ]
     },
     "execution_count": 7,
     "metadata": {},
     "output_type": "execute_result"
    }
   ],
   "source": [
    "# Add the features to the DataFrame\n",
    "features = Features(krill_radius, nestCount_radius, padding)\n",
    "df_features = features.add_features(df_features)\n",
    "\n",
    "df_features.head()"
   ]
  },
  {
   "cell_type": "code",
   "execution_count": 8,
   "metadata": {
    "collapsed": false
   },
   "outputs": [
    {
     "data": {
      "text/plain": [
       "Index(['y_true', 'inferred_y_true', 'inferred_t', 't0', 't1', 't2', 't3',\n",
       "       'countError', 'adelie penguin', 'chinstrap penguin', 'gentoo penguin',\n",
       "       'proximityNestCountChange', 'siteCount', 'sea_ice_month_0',\n",
       "       'sea_ice_month_1', 'sea_ice_month_2', 'sea_ice_month_3',\n",
       "       'sea_ice_month_4', 'sea_ice_month_5', 'sea_ice_month_6',\n",
       "       'sea_ice_month_7', 'sea_ice_month_8', 'sea_ice_month_9',\n",
       "       'sea_ice_month_10', 'sea_ice_month_11', 'krill', 'temp_month_0',\n",
       "       'temp_month_1', 'temp_month_2', 'temp_month_3', 'temp_month_4',\n",
       "       'temp_month_5', 'temp_month_6', 'temp_month_7', 'temp_month_8',\n",
       "       'temp_month_9', 'temp_month_10', 'temp_month_11'],\n",
       "      dtype='object')"
      ]
     },
     "execution_count": 8,
     "metadata": {},
     "output_type": "execute_result"
    }
   ],
   "source": [
    "df_features.columns"
   ]
  },
  {
   "cell_type": "code",
   "execution_count": 9,
   "metadata": {
    "collapsed": false
   },
   "outputs": [
    {
     "name": "stdout",
     "output_type": "stream",
     "text": [
      "Noise y observed (17083, 38)\n",
      "Noise t observed (11881, 38)\n",
      "Noise all (56376, 38)\n",
      "Final (85340, 38)\n"
     ]
    }
   ],
   "source": [
    "# There are a lot of missing values in the original data and I believe that the truly observed values\n",
    "# should be trusted more. In order to increase the training data, noise is added to which artificially\n",
    "# increase the number of observations. Here, the truly observed data is enriched relatively more to\n",
    "# put more emphasise on them.\n",
    "yobs = 10\n",
    "tobs = 5\n",
    "other = 2\n",
    "\n",
    "df_YObserved = df_features[~df_features['inferred_y_true']]\n",
    "df_trainNoiseYObserved = noise_bagging(df_YObserved, yobs*df_YObserved.shape[0], strength=0.5)\n",
    "print('Noise y observed', df_trainNoiseYObserved.shape)\n",
    "\n",
    "df_TObserved = df_features[~df_features['inferred_t']]\n",
    "df_trainNoiseTObserved = noise_bagging(df_TObserved, tobs*df_YObserved.shape[0], strength=0.5)\n",
    "print('Noise t observed', df_trainNoiseTObserved.shape)\n",
    "\n",
    "df_featuresNoise = noise_bagging(df_features, other*df_features.shape[0], strength=0.4)\n",
    "print('Noise all', df_featuresNoise.shape)\n",
    "\n",
    "df_featuresNoise = pd.concat([df_featuresNoise, df_trainNoiseTObserved, df_trainNoiseYObserved])\n",
    "print('Final', df_featuresNoise.shape)"
   ]
  },
  {
   "cell_type": "code",
   "execution_count": 10,
   "metadata": {
    "collapsed": false
   },
   "outputs": [
    {
     "data": {
      "text/plain": [
       "((17496, 38), (1296, 38))"
      ]
     },
     "execution_count": 10,
     "metadata": {},
     "output_type": "execute_result"
    }
   ],
   "source": [
    "# Split into train and test\n",
    "df_train, df_test = split_train_test(df_features)\n",
    "df_train.shape, df_test.shape"
   ]
  },
  {
   "cell_type": "code",
   "execution_count": 11,
   "metadata": {
    "collapsed": false
   },
   "outputs": [
    {
     "data": {
      "text/plain": [
       "((77648, 38), (7692, 38))"
      ]
     },
     "execution_count": 11,
     "metadata": {},
     "output_type": "execute_result"
    }
   ],
   "source": [
    "# Split noise data into train and test\n",
    "df_trainNoise, df_testNoise = split_train_test(df_featuresNoise)\n",
    "df_trainNoise.shape, df_testNoise.shape"
   ]
  },
  {
   "cell_type": "code",
   "execution_count": 12,
   "metadata": {
    "collapsed": false
   },
   "outputs": [],
   "source": [
    "fname = '../data/interim/Submission_02/features_weighted.p'\n",
    "pickle.dump([df_trainNoise, df_test, df_features, df_featuresNoise, features, scaler], open(fname, 'wb'))"
   ]
  },
  {
   "cell_type": "code",
   "execution_count": 13,
   "metadata": {
    "collapsed": true
   },
   "outputs": [],
   "source": [
    "fname = '../data/interim/Submission_02/features.p'\n",
    "pickle.dump([df_train, df_test, df_features, None, features, scaler], open(fname, 'wb'))"
   ]
  },
  {
   "cell_type": "code",
   "execution_count": null,
   "metadata": {
    "collapsed": false
   },
   "outputs": [],
   "source": []
  }
 ],
 "metadata": {
  "anaconda-cloud": {},
  "kernelspec": {
   "display_name": "Python [conda env:keras]",
   "language": "python",
   "name": "conda-env-keras-py"
  },
  "language_info": {
   "codemirror_mode": {
    "name": "ipython",
    "version": 3
   },
   "file_extension": ".py",
   "mimetype": "text/x-python",
   "name": "python",
   "nbconvert_exporter": "python",
   "pygments_lexer": "ipython3",
   "version": "3.4.5"
  }
 },
 "nbformat": 4,
 "nbformat_minor": 2
}
